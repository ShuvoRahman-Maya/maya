{
 "cells": [
  {
   "cell_type": "markdown",
   "metadata": {
    "deletable": true,
    "editable": true
   },
   "source": [
    "Exploratory Text Mining"
   ]
  },
  {
   "cell_type": "code",
   "execution_count": 69,
   "metadata": {
    "collapsed": false,
    "deletable": true,
    "editable": true
   },
   "outputs": [],
   "source": [
    "from database_connection import DatabaseConnection\n",
    "import numpy as np"
   ]
  },
  {
   "cell_type": "code",
   "execution_count": 70,
   "metadata": {
    "collapsed": false,
    "deletable": true,
    "editable": true
   },
   "outputs": [],
   "source": [
    "db_conn = DatabaseConnection()\n",
    "connection = db_conn.connect_to_database()"
   ]
  },
  {
   "cell_type": "code",
   "execution_count": 71,
   "metadata": {
    "collapsed": false,
    "deletable": true,
    "editable": true
   },
   "outputs": [],
   "source": [
    "try:\n",
    "    with connection.cursor() as cursor:\n",
    "        cursor.execute(\"SELECT question_id, body, t2_id, tags_2, source, status from questions_merged where t2_id is not null and lang='en'\")\n",
    "        result = cursor.fetchall()\n",
    "finally:\n",
    "    connection.close()"
   ]
  },
  {
   "cell_type": "code",
   "execution_count": 72,
   "metadata": {
    "collapsed": false,
    "deletable": true,
    "editable": true
   },
   "outputs": [],
   "source": [
    "word_freq_dict = dict()\n",
    "for i in result:\n",
    "    if i['tags_2'] in word_freq_dict:\n",
    "        word_freq_dict[i['tags_2']].append(i['body'])\n",
    "    else:\n",
    "        word_freq_dict[i['tags_2']] = [i['body']]"
   ]
  },
  {
   "cell_type": "code",
   "execution_count": 73,
   "metadata": {
    "collapsed": true,
    "deletable": true,
    "editable": true
   },
   "outputs": [],
   "source": [
    "from sklearn.feature_extraction.text import CountVectorizer\n"
   ]
  },
  {
   "cell_type": "code",
   "execution_count": 74,
   "metadata": {
    "collapsed": false,
    "deletable": true,
    "editable": true
   },
   "outputs": [],
   "source": [
    "cv = CountVectorizer(ngram_range=(1,3),stop_words='english')"
   ]
  },
  {
   "cell_type": "code",
   "execution_count": 68,
   "metadata": {
    "collapsed": false,
    "deletable": true,
    "editable": true
   },
   "outputs": [],
   "source": [
    "import csv\n",
    "with open('file_en.csv', 'w', newline='', encoding='utf-8') as fp:\n",
    "    a = csv.writer(fp, delimiter=',')\n",
    "    for i,j in word_freq_dict.items():\n",
    "        matrix = cv.fit_transform(j)\n",
    "        freqs = [(word, matrix.getcol(idx).sum()) for word, idx in cv.vocabulary_.items()]\n",
    "        ls = sorted(freqs, key = lambda x: -x[1])[:100]\n",
    "        a.writerow([i])\n",
    "        a.writerows([ls])"
   ]
  }
 ],
 "metadata": {
  "kernelspec": {
   "display_name": "Python 3",
   "language": "python",
   "name": "python3"
  },
  "language_info": {
   "codemirror_mode": {
    "name": "ipython",
    "version": 3
   },
   "file_extension": ".py",
   "mimetype": "text/x-python",
   "name": "python",
   "nbconvert_exporter": "python",
   "pygments_lexer": "ipython3",
   "version": "3.5.2"
  }
 },
 "nbformat": 4,
 "nbformat_minor": 2
}
