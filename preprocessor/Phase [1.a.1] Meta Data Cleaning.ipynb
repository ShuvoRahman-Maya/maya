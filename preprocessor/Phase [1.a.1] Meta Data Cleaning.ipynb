{
 "cells": [
  {
   "cell_type": "markdown",
   "metadata": {
    "slideshow": {
     "slide_type": "-"
    }
   },
   "source": [
    "# Meta Data Cleaning"
   ]
  },
  {
   "cell_type": "markdown",
   "metadata": {},
   "source": [
    "Database connection: First we connect to the database with pymysql. We have created a database.py class to control the connection."
   ]
  },
  {
   "cell_type": "code",
   "execution_count": 32,
   "metadata": {
    "collapsed": false
   },
   "outputs": [],
   "source": [
    "from database import Database\n",
    "database = Database(\n",
    "    'localhost',\n",
    "    '26feb',\n",
    "    'root',\n",
    "    'root',\n",
    "    'utf8mb4'\n",
    ")\n",
    "connection = database.connect_with_pymysql()\n"
   ]
  },
  {
   "cell_type": "markdown",
   "metadata": {},
   "source": [
    "Now we will import the questions from the database and clean those data. The cleaning includes the following steps:\n",
    "Step 1: Decode the data, remove specials character\n",
    "Step 2: Remove punctuation mark\n",
    "Step 3: Remove extra whitespace\n",
    "\n",
    "After that we will update the clean data in our database. Finally we will close the database connection."
   ]
  },
  {
   "cell_type": "code",
   "execution_count": 34,
   "metadata": {
    "collapsed": false
   },
   "outputs": [],
   "source": [
    "from preprocessor import Decoder, Cleaner\n",
    "# decoder instance\n",
    "decoder = Decoder()\n",
    "    \n",
    "if connection:\n",
    "    try:\n",
    "        with connection.cursor() as cursor:\n",
    "            # example: decode all questions\n",
    "            for data in decoder.decode_in_range(cursor, 'questions', 'body', 1, 151305):\n",
    "                if data:\n",
    "                    if all(data):\n",
    "                        try:\n",
    "                            # example: punctuation remove\n",
    "                            cleaned_data = Cleaner.punctuation_remover(data[1])\n",
    "                            # example: whitespace reomve\n",
    "                            cleaned_data = Cleaner.whitespace_remover(cleaned_data)\n",
    "                            sql = \"UPDATE questions SET body='\" + cleaned_data + \"' WHERE id= \"+str(data[0])\n",
    "                            cursor.execute(sql)\n",
    "                            connection.commit()\n",
    "                        except Exception:\n",
    "                            print \"Exception in updating id \" + str(data[0])\n",
    "    finally:\n",
    "        pass\n",
    "#         connection.close()\n"
   ]
  },
  {
   "cell_type": "markdown",
   "metadata": {},
   "source": [
    "After that we will update our database with the clean data on which we will continue our further analysis."
   ]
  },
  {
   "cell_type": "code",
   "execution_count": 29,
   "metadata": {
    "collapsed": false
   },
   "outputs": [],
   "source": [
    "from database import Database\n",
    "database = Database(\n",
    "    'localhost',\n",
    "    '26feb',\n",
    "    'root',\n",
    "    'root',\n",
    "    'utf8mb4'\n",
    ")\n",
    "connection = database.connect_with_pymysql()\n",
    "\n",
    "if connection:\n",
    "    with connection.cursor() as cursor:\n",
    "        sql = 'select count(*) as count, body from answers group by body having count >5 order by count desc'\n",
    "        cursor.execute(sql)\n",
    "        data = cursor.fetchall()\n",
    "        for i in data:\n",
    "            sql = \"insert into auto_answer(body, count) values('\"+i['body']+\"','\"+str(i['count'])+\"')\"\n",
    "            cursor.execute(sql)\n",
    "            connection.commit()\n",
    "        "
   ]
  },
  {
   "cell_type": "code",
   "execution_count": 31,
   "metadata": {
    "collapsed": false
   },
   "outputs": [],
   "source": [
    "from database import Database\n",
    "database = Database(\n",
    "    'localhost',\n",
    "    '26feb',\n",
    "    'root',\n",
    "    'root',\n",
    "    'utf8mb4'\n",
    ")\n",
    "connection = database.connect_with_pymysql()\n",
    "\n",
    "if connection:\n",
    "    with connection.cursor() as cursor:\n",
    "        sql = 'select id, body from auto_answer'\n",
    "        cursor.execute(sql)\n",
    "        data = cursor.fetchall()\n",
    "        for i in data:\n",
    "            sql = \"select question_id from answers where body='\"+i['body']+\"'\"\n",
    "            cursor.execute(sql)\n",
    "            questions = cursor.fetchall()\n",
    "            for j in questions:\n",
    "                insert_sql = \"insert into question_answer_map(question_id, answer_id) values('\"+str(j['question_id'])+\"','\"+str(i['id'])+\"')\"\n",
    "                cursor.execute(insert_sql)\n",
    "                connection.commit()"
   ]
  },
  {
   "cell_type": "code",
   "execution_count": null,
   "metadata": {
    "collapsed": true
   },
   "outputs": [],
   "source": [
    "from database import Database\n",
    "database = Database(\n",
    "    'localhost',\n",
    "    '26feb',\n",
    "    'root',\n",
    "    'root',\n",
    "    'utf8mb4'\n",
    ")\n",
    "connection = database.connect_with_pymysql()\n",
    "\n",
    "if connection:\n",
    "    with connection.cursor() as cursor:\n",
    "        sql = 'select count(*) as count, body from answers group by body having count >5 order by count desc'\n",
    "        cursor.execute(sql)\n",
    "        data = cursor.fetchall()\n",
    "        for i in data:\n",
    "            sql = \"insert into auto_answer(body, count) values('\"+i['body']+\"','\"+str(i['count'])+\"')\"\n",
    "            cursor.execute(sql)\n",
    "            connection.commit()"
   ]
  },
  {
   "cell_type": "code",
   "execution_count": null,
   "metadata": {
    "collapsed": true
   },
   "outputs": [],
   "source": [
    "from database import Database\n",
    "database = Database(\n",
    "    'localhost',\n",
    "    '26feb',\n",
    "    'root',\n",
    "    'root',\n",
    "    'utf8mb4'\n",
    ")\n",
    "connection = database.connect_with_pymysql()\n",
    "\n",
    "if connection:\n",
    "    with connection.cursor() as cursor:\n",
    "        sql = 'select count(*) as count, body from answers group by body having count >5 order by count desc'\n",
    "        cursor.execute(sql)\n",
    "        data = cursor.fetchall()\n",
    "        for i in data:\n",
    "            sql = \"insert into auto_answer(body, count) values('\"+i['body']+\"','\"+str(i['count'])+\"')\"\n",
    "            cursor.execute(sql)\n",
    "            connection.commit()"
   ]
  }
 ],
 "metadata": {
  "kernelspec": {
   "display_name": "Python 2",
   "language": "python",
   "name": "python2"
  },
  "language_info": {
   "codemirror_mode": {
    "name": "ipython",
    "version": 2
   },
   "file_extension": ".py",
   "mimetype": "text/x-python",
   "name": "python",
   "nbconvert_exporter": "python",
   "pygments_lexer": "ipython2",
   "version": "2.7.12"
  }
 },
 "nbformat": 4,
 "nbformat_minor": 1
}
